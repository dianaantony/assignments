{
 "cells": [
  {
   "cell_type": "code",
   "execution_count": 3,
   "metadata": {},
   "outputs": [
    {
     "name": "stdout",
     "output_type": "stream",
     "text": [
      "And let us consider how we may spur one another on toward love and good deeds, not giving up meeting together, as some are in the habit of doing, but encouraging one another—and all the more as you see the Day approaching.\n"
     ]
    }
   ],
   "source": [
    "x=\"And let us consider how we may spur one another on toward love and good deeds, not giving up meeting together, as some are in the habit of doing, but encouraging one another—and all the more as you see the Day approaching.\"\n",
    "print(x)"
   ]
  },
  {
   "cell_type": "code",
   "execution_count": 10,
   "metadata": {},
   "outputs": [
    {
     "ename": "SyntaxError",
     "evalue": "invalid syntax (<ipython-input-10-35a4f2803fc0>, line 1)",
     "output_type": "error",
     "traceback": [
      "\u001b[1;36m  File \u001b[1;32m\"<ipython-input-10-35a4f2803fc0>\"\u001b[1;36m, line \u001b[1;32m1\u001b[0m\n\u001b[1;33m    a='And let us consider how we may spur one another on toward love and good deeds, not giving up meeting together, as some are in the habit of doing, but encouraging one another—and all' the more as you see the Day approaching. Do not be afraid, little flock, for your Father has been pleased to give you the kingdom.'\u001b[0m\n\u001b[1;37m                                                                                                                                                                                                ^\u001b[0m\n\u001b[1;31mSyntaxError\u001b[0m\u001b[1;31m:\u001b[0m invalid syntax\n"
     ]
    }
   ],
   "source": [
    "a='And let us consider how we may spur one another on toward love and good deeds, not giving up meeting together, as some are in the habit of doing, but encouraging one another—and all' the more as you see the Day approaching. Do not be afraid, little flock, for your Father has been pleased to give you the kingdom.'\n",
    "print(a)"
   ]
  },
  {
   "cell_type": "code",
   "execution_count": 12,
   "metadata": {},
   "outputs": [
    {
     "name": "stdout",
     "output_type": "stream",
     "text": [
      "this is a test document and first lab excercise\n"
     ]
    }
   ],
   "source": [
    "x=\"this is a test document and first lab excercise\"\n",
    "print(x)"
   ]
  },
  {
   "cell_type": "code",
   "execution_count": 13,
   "metadata": {},
   "outputs": [
    {
     "name": "stdout",
     "output_type": "stream",
     "text": [
      "this is a test document and first lab excercise\n"
     ]
    }
   ],
   "source": [
    "x='this is a test document and first lab excercise'\n",
    "print(x)"
   ]
  },
  {
   "cell_type": "code",
   "execution_count": 18,
   "metadata": {},
   "outputs": [
    {
     "name": "stdout",
     "output_type": "stream",
     "text": [
      "['Tuscany', 'Barcalona', 'Prague', 'Paris', 'Amsterdam']\n"
     ]
    }
   ],
   "source": [
    "list=['Tuscany','Barcalona','Prague','Paris','Amsterdam']\n",
    "print(list)"
   ]
  },
  {
   "cell_type": "code",
   "execution_count": 19,
   "metadata": {},
   "outputs": [
    {
     "name": "stdout",
     "output_type": "stream",
     "text": [
      "['Tuscany', 'Barcalona', 'Prague', 'Paris', 'Amsterdam', 'Venice']\n"
     ]
    }
   ],
   "source": [
    "list.append('Venice')\n",
    "print(list)"
   ]
  },
  {
   "cell_type": "code",
   "execution_count": 20,
   "metadata": {},
   "outputs": [
    {
     "name": "stdout",
     "output_type": "stream",
     "text": [
      "{'Messi': 'Football', 'Kohli': 'Cricket', 'Marry kom': 'Boxing', 'Sindhu': 'Batminton', 'Fedrer': 'Tennis'}\n"
     ]
    }
   ],
   "source": [
    "dict={\n",
    "    \"Messi\":'Football',\n",
    "    'Kohli':'Cricket',\n",
    "    'Marry kom':'Boxing',\n",
    "    'Sindhu':'Batminton',\n",
    "    'Fedrer':'Tennis'\n",
    "}\n",
    "print(dict)"
   ]
  },
  {
   "cell_type": "code",
   "execution_count": 22,
   "metadata": {},
   "outputs": [
    {
     "name": "stdout",
     "output_type": "stream",
     "text": [
      "tup1[3]:  D\n",
      "tup2[1:5]:  (2, 3, 4, 5)\n"
     ]
    }
   ],
   "source": [
    "tup1 = ('A', 'B','C' ,'D');\n",
    "tup2 = (1, 2, 3, 4, 5, 6, 7 );\n",
    "print (\"tup1[3]: \", tup1[3]);\n",
    "print (\"tup2[1:5]: \", tup2[1:5]);"
   ]
  },
  {
   "cell_type": "code",
   "execution_count": 23,
   "metadata": {},
   "outputs": [
    {
     "name": "stdout",
     "output_type": "stream",
     "text": [
      "{'Kohli': 'Cricket', 'Marry kom': 'Boxing', 'Sindhu': 'Batminton', 'Fedrer': 'Tennis'}\n"
     ]
    }
   ],
   "source": [
    "del dict['Messi']\n",
    "print(dict)"
   ]
  },
  {
   "cell_type": "code",
   "execution_count": 24,
   "metadata": {},
   "outputs": [
    {
     "name": "stdout",
     "output_type": "stream",
     "text": [
      "{'Kohli': 'Cricket', 'Marry kom': 'Boxing', 'Sindhu': 'Batminton', 'Fedrer': 'Tennis', 'Messi': 'football'}\n"
     ]
    }
   ],
   "source": [
    "dict['Messi'] = 'football'\n",
    "print(dict)"
   ]
  },
  {
   "cell_type": "code",
   "execution_count": null,
   "metadata": {},
   "outputs": [],
   "source": [
    "x='And let us consider how we may spur one another on toward love and good deeds, not giving up meeting together, as some are in the habit of doing, \\'but encouraging one another—and all the more as you see the Day approaching'"
   ]
  }
 ],
 "metadata": {
  "kernelspec": {
   "display_name": "Python 3",
   "language": "python",
   "name": "python3"
  },
  "language_info": {
   "codemirror_mode": {
    "name": "ipython",
    "version": 3
   },
   "file_extension": ".py",
   "mimetype": "text/x-python",
   "name": "python",
   "nbconvert_exporter": "python",
   "pygments_lexer": "ipython3",
   "version": "3.7.4"
  }
 },
 "nbformat": 4,
 "nbformat_minor": 2
}
